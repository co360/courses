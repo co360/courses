{
 "cells": [
  {
   "cell_type": "code",
   "execution_count": 11,
   "metadata": {},
   "outputs": [],
   "source": [
    "from sklearn.svm import LinearSVC"
   ]
  },
  {
   "cell_type": "code",
   "execution_count": 12,
   "metadata": {},
   "outputs": [
    {
     "data": {
      "text/plain": [
       "LinearSVC(C=1.0, class_weight=None, dual=True, fit_intercept=True,\n",
       "          intercept_scaling=1, loss='squared_hinge', max_iter=1000,\n",
       "          multi_class='ovr', penalty='l2', random_state=None, tol=0.0001,\n",
       "          verbose=0)"
      ]
     },
     "execution_count": 12,
     "metadata": {},
     "output_type": "execute_result"
    }
   ],
   "source": [
    "has_hair = 1\n",
    "has_long_leg = 1\n",
    "bark = 1\n",
    "\n",
    "not_has_hair = 0\n",
    "not_has_long_leg = 0\n",
    "not_bark = 0\n",
    "\n",
    "is_pig = 1\n",
    "not_is_pig = 0\n",
    "\n",
    "\n",
    "pig_1 = [not_has_hair, not_has_long_leg, not_bark]\n",
    "pig_2 = [has_hair, has_long_leg, not_bark]\n",
    "\n",
    "dog_1 = [has_hair, not_has_long_leg, bark]\n",
    "dog_2 = [has_hair, has_long_leg, bark]\n",
    "\n",
    "test_x = [pig_1, pig_2, dog_1, dog_2]\n",
    "test_y = [is_pig, is_pig, not_is_pig, not_is_pig]\n",
    "\n",
    "model = LinearSVC()\n",
    "model.fit(test_x, test_y)"
   ]
  },
  {
   "cell_type": "code",
   "execution_count": 13,
   "metadata": {},
   "outputs": [
    {
     "data": {
      "text/plain": [
       "array([1])"
      ]
     },
     "execution_count": 13,
     "metadata": {},
     "output_type": "execute_result"
    }
   ],
   "source": [
    "pig_3 = [not_has_hair, has_long_leg, not_bark]\n",
    "\n",
    "model.predict([pig_3])"
   ]
  },
  {
   "cell_type": "code",
   "execution_count": 14,
   "metadata": {},
   "outputs": [
    {
     "data": {
      "text/plain": [
       "array([0])"
      ]
     },
     "execution_count": 14,
     "metadata": {},
     "output_type": "execute_result"
    }
   ],
   "source": [
    "dog_3 = [not_has_hair, not_has_long_leg, bark]\n",
    "\n",
    "model.predict([dog_3])"
   ]
  },
  {
   "cell_type": "code",
   "execution_count": null,
   "metadata": {},
   "outputs": [],
   "source": []
  }
 ],
 "metadata": {
  "kernelspec": {
   "display_name": "Python 3",
   "language": "python",
   "name": "python3"
  },
  "language_info": {
   "codemirror_mode": {
    "name": "ipython",
    "version": 3
   },
   "file_extension": ".py",
   "mimetype": "text/x-python",
   "name": "python",
   "nbconvert_exporter": "python",
   "pygments_lexer": "ipython3",
   "version": "3.7.3"
  }
 },
 "nbformat": 4,
 "nbformat_minor": 2
}
